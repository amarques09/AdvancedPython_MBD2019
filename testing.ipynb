{
 "cells": [
  {
   "cell_type": "code",
   "execution_count": 1,
   "metadata": {},
   "outputs": [
    {
     "data": {
      "text/plain": [
       "'C:\\\\Users\\\\amand\\\\ie-bike-sharing-model-lib-ref'"
      ]
     },
     "execution_count": 1,
     "metadata": {},
     "output_type": "execute_result"
    }
   ],
   "source": [
    "pwd"
   ]
  },
  {
   "cell_type": "code",
   "execution_count": 2,
   "metadata": {},
   "outputs": [
    {
     "name": "stdout",
     "output_type": "stream",
     "text": [
      "Processing c:\\users\\amand\\ie-bike-sharing-model-lib-ref\n",
      "  Installing build dependencies: started\n",
      "  Installing build dependencies: finished with status 'done'\n",
      "  Getting requirements to build wheel: started\n",
      "  Getting requirements to build wheel: finished with status 'done'\n",
      "  Installing backend dependencies: started\n",
      "  Installing backend dependencies: finished with status 'done'\n",
      "    Preparing wheel metadata: started\n",
      "    Preparing wheel metadata: finished with status 'done'\n",
      "Requirement already satisfied: scikit-learn in c:\\users\\amand\\anaconda3\\anaconda\\lib\\site-packages (from ie_bike_model==0.1.0) (0.22.1)\n",
      "Requirement already satisfied: xgboost in c:\\users\\amand\\anaconda3\\anaconda\\lib\\site-packages (from ie_bike_model==0.1.0) (0.90)\n",
      "Requirement already satisfied: pandas in c:\\users\\amand\\anaconda3\\anaconda\\lib\\site-packages (from ie_bike_model==0.1.0) (0.25.3)\n",
      "Requirement already satisfied: joblib>=0.11 in c:\\users\\amand\\anaconda3\\anaconda\\lib\\site-packages (from scikit-learn->ie_bike_model==0.1.0) (0.13.2)\n",
      "Requirement already satisfied: numpy>=1.11.0 in c:\\users\\amand\\anaconda3\\anaconda\\lib\\site-packages (from scikit-learn->ie_bike_model==0.1.0) (1.17.5)\n",
      "Requirement already satisfied: scipy>=0.17.0 in c:\\users\\amand\\anaconda3\\anaconda\\lib\\site-packages (from scikit-learn->ie_bike_model==0.1.0) (1.4.1)\n",
      "Requirement already satisfied: pytz>=2017.2 in c:\\users\\amand\\anaconda3\\anaconda\\lib\\site-packages (from pandas->ie_bike_model==0.1.0) (2019.1)\n",
      "Requirement already satisfied: python-dateutil>=2.6.1 in c:\\users\\amand\\anaconda3\\anaconda\\lib\\site-packages (from pandas->ie_bike_model==0.1.0) (2.8.0)\n",
      "Requirement already satisfied: six>=1.5 in c:\\users\\amand\\anaconda3\\anaconda\\lib\\site-packages (from python-dateutil>=2.6.1->pandas->ie_bike_model==0.1.0) (1.12.0)\n",
      "Building wheels for collected packages: ie-bike-model\n",
      "  Building wheel for ie-bike-model (PEP 517): started\n",
      "  Building wheel for ie-bike-model (PEP 517): finished with status 'done'\n",
      "  Stored in directory: C:\\Users\\amand\\AppData\\Local\\pip\\Cache\\wheels\\58\\43\\27\\36517ebd395fd7bb1149f8b8939dab064c57099732d26d814d\n",
      "Successfully built ie-bike-model\n",
      "Installing collected packages: ie-bike-model\n",
      "  Found existing installation: ie-bike-model 0.1.0\n",
      "    Uninstalling ie-bike-model-0.1.0:\n",
      "      Successfully uninstalled ie-bike-model-0.1.0\n",
      "Successfully installed ie-bike-model-0.1.0\n",
      "Note: you may need to restart the kernel to use updated packages.\n"
     ]
    }
   ],
   "source": [
    "pip install ."
   ]
  },
  {
   "cell_type": "code",
   "execution_count": 3,
   "metadata": {},
   "outputs": [],
   "source": [
    "from ie_bike_model.model import *"
   ]
  },
  {
   "cell_type": "code",
   "execution_count": 5,
   "metadata": {},
   "outputs": [],
   "source": [
    "from ie_bike_model.util import *"
   ]
  },
  {
   "cell_type": "code",
   "execution_count": 7,
   "metadata": {},
   "outputs": [],
   "source": [
    "train_and_persist(model_dir='',model='ridge')"
   ]
  },
  {
   "cell_type": "code",
   "execution_count": null,
   "metadata": {},
   "outputs": [],
   "source": [
    "! flask run"
   ]
  }
 ],
 "metadata": {
  "kernelspec": {
   "display_name": "Python 3",
   "language": "python",
   "name": "python3"
  },
  "language_info": {
   "codemirror_mode": {
    "name": "ipython",
    "version": 3
   },
   "file_extension": ".py",
   "mimetype": "text/x-python",
   "name": "python",
   "nbconvert_exporter": "python",
   "pygments_lexer": "ipython3",
   "version": "3.7.3"
  }
 },
 "nbformat": 4,
 "nbformat_minor": 4
}
